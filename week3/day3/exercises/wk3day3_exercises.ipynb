{
  "nbformat": 4,
  "nbformat_minor": 0,
  "metadata": {
    "colab": {
      "provenance": [],
      "authorship_tag": "ABX9TyNxKk1ca8a6bPfFDu8FrND8",
      "include_colab_link": true
    },
    "kernelspec": {
      "name": "python3",
      "display_name": "Python 3"
    },
    "language_info": {
      "name": "python"
    }
  },
  "cells": [
    {
      "cell_type": "markdown",
      "metadata": {
        "id": "view-in-github",
        "colab_type": "text"
      },
      "source": [
        "<a href=\"https://colab.research.google.com/github/Wolfasaurus-08/DI_Bootcamp/blob/main/wk3day3_exercises.ipynb\" target=\"_parent\"><img src=\"https://colab.research.google.com/assets/colab-badge.svg\" alt=\"Open In Colab\"/></a>"
      ]
    },
    {
      "cell_type": "markdown",
      "source": [
        "Exercise 1: Duplicate Detection and Removal\n",
        "Instructions\n",
        "Objective: Identify and remove duplicate entries in the Titanic dataset.\n",
        "\n",
        "Load the Titanic dataset.\n",
        "Identify if there are any duplicate rows based on all columns.\n",
        "Remove any duplicate rows found in the dataset.\n",
        "Verify the removal of duplicates by checking the number of rows before and after the duplicate removal.\n",
        "Hint: Use the duplicated() and drop_duplicates() functions in Pandas."
      ],
      "metadata": {
        "id": "0fOY1MvD4FzM"
      }
    },
    {
      "cell_type": "code",
      "execution_count": 36,
      "metadata": {
        "colab": {
          "base_uri": "https://localhost:8080/"
        },
        "collapsed": true,
        "id": "AYmlKL7Z3E8Y",
        "outputId": "b999f3e8-4c90-4131-cf65-63d1e2af54e4"
      },
      "outputs": [
        {
          "output_type": "stream",
          "name": "stdout",
          "text": [
            "   PassengerId  Survived  Pclass  \\\n",
            "0            1         0       3   \n",
            "1            2         1       1   \n",
            "2            3         1       3   \n",
            "3            4         1       1   \n",
            "4            5         0       3   \n",
            "\n",
            "                                                Name     Sex   Age  SibSp  \\\n",
            "0                            Braund, Mr. Owen Harris    male  22.0      1   \n",
            "1  Cumings, Mrs. John Bradley (Florence Briggs Th...  female  38.0      1   \n",
            "2                             Heikkinen, Miss. Laina  female  26.0      0   \n",
            "3       Futrelle, Mrs. Jacques Heath (Lily May Peel)  female  35.0      1   \n",
            "4                           Allen, Mr. William Henry    male  35.0      0   \n",
            "\n",
            "   Parch            Ticket     Fare Cabin Embarked  \n",
            "0      0         A/5 21171   7.2500   NaN        S  \n",
            "1      0          PC 17599  71.2833   C85        C  \n",
            "2      0  STON/O2. 3101282   7.9250   NaN        S  \n",
            "3      0            113803  53.1000  C123        S  \n",
            "4      0            373450   8.0500   NaN        S  \n",
            "<class 'pandas.core.frame.DataFrame'>\n",
            "RangeIndex: 891 entries, 0 to 890\n",
            "Data columns (total 12 columns):\n",
            " #   Column       Non-Null Count  Dtype  \n",
            "---  ------       --------------  -----  \n",
            " 0   PassengerId  891 non-null    int64  \n",
            " 1   Survived     891 non-null    int64  \n",
            " 2   Pclass       891 non-null    int64  \n",
            " 3   Name         891 non-null    object \n",
            " 4   Sex          891 non-null    object \n",
            " 5   Age          714 non-null    float64\n",
            " 6   SibSp        891 non-null    int64  \n",
            " 7   Parch        891 non-null    int64  \n",
            " 8   Ticket       891 non-null    object \n",
            " 9   Fare         891 non-null    float64\n",
            " 10  Cabin        204 non-null    object \n",
            " 11  Embarked     889 non-null    object \n",
            "dtypes: float64(2), int64(5), object(5)\n",
            "memory usage: 83.7+ KB\n",
            "None\n"
          ]
        }
      ],
      "source": [
        "import pandas as pd\n",
        "from sklearn.impute import SimpleImputer\n",
        "from sklearn.preprocessing import OneHotEncoder, LabelEncoder, StandardScaler, MinMaxScaler\n",
        "import matplotlib.pyplot as plt\n",
        "import seaborn as sns\n",
        "\n",
        "# Load the Titanic dataset\n",
        "titanic_data = pd.read_csv('train.csv')\n",
        "titanic_data_copy = titanic_data.copy()\n",
        "from sklearn.preprocessing import LabelEncoder\n",
        "\n",
        "# Explore the dataset\n",
        "print(titanic_data.head())\n",
        "print(titanic_data.info())\n"
      ]
    },
    {
      "cell_type": "code",
      "source": [
        "# Count the number of duplicate rows\n",
        "titanic_data_copy = titanic_data_copy.drop_duplicates()\n",
        "\n",
        "# Verify duplicates are removed\n",
        "print(titanic_data_copy.duplicated().sum())"
      ],
      "metadata": {
        "colab": {
          "base_uri": "https://localhost:8080/"
        },
        "collapsed": true,
        "id": "yG7bIgrG_Tmo",
        "outputId": "a03133c6-04d4-4e8d-c3c5-e9d9efd5ff6b"
      },
      "execution_count": 25,
      "outputs": [
        {
          "output_type": "stream",
          "name": "stdout",
          "text": [
            "0\n"
          ]
        }
      ]
    },
    {
      "cell_type": "markdown",
      "source": [
        " **Exercise 2:** Handling Missing Values\n",
        "Instructions\n",
        "Identify columns in the Titanic dataset with missing values.\n",
        "Explore different strategies for handling missing data, such as removal, imputation, and filling with a constant value.\n",
        "Apply each strategy to different columns based on the nature of the data.\n",
        "Hint: Review methods like dropna(), fillna(), and SimpleImputer from scikit-learn."
      ],
      "metadata": {
        "id": "_7KoCrtAArHl"
      }
    },
    {
      "cell_type": "code",
      "source": [
        "# Identify columns with missing values\n",
        "missing_values = titanic_data_copy.isnull().sum()\n",
        "missing_columns = missing_values[missing_values > 0]\n",
        "print(f'Columns with missing values:\\n{missing_columns}')\n",
        "\n",
        "# Removal: Drop rows with missing values in 'Cabin' column\n",
        "titanic_data_removed = titanic_data_copy.dropna(subset=['Cabin'])\n",
        "\n",
        "# Imputation: Fill missing 'Age' values with the median age\n",
        "titanic_data_copy.loc[:, 'Age'] = titanic_data_copy['Age'].fillna(titanic_data_copy['Age'].median())\n",
        "\n",
        "# Filling with a constant value: Replace missing 'Embarked' values with 'Unknown'\n",
        "titanic_data_copy['Embarked'] = titanic_data_copy['Embarked'].fillna('Unknown')\n",
        "\n",
        "# Verify the changes\n",
        "missing_values_after = titanic_data_copy.isnull().sum()\n",
        "print(f'Missing values after handling:\\n{missing_values_after}')"
      ],
      "metadata": {
        "colab": {
          "base_uri": "https://localhost:8080/"
        },
        "id": "Lwo2qqn9A2GN",
        "outputId": "db123813-a665-4904-a276-50ec21429e7e"
      },
      "execution_count": 26,
      "outputs": [
        {
          "output_type": "stream",
          "name": "stdout",
          "text": [
            "Columns with missing values:\n",
            "Age         177\n",
            "Cabin       687\n",
            "Embarked      2\n",
            "dtype: int64\n",
            "Missing values after handling:\n",
            "PassengerId      0\n",
            "Survived         0\n",
            "Pclass           0\n",
            "Name             0\n",
            "Sex              0\n",
            "Age              0\n",
            "SibSp            0\n",
            "Parch            0\n",
            "Ticket           0\n",
            "Fare             0\n",
            "Cabin          687\n",
            "Embarked         0\n",
            "dtype: int64\n"
          ]
        }
      ]
    },
    {
      "cell_type": "code",
      "source": [
        "print(titanic_data_copy.columns)"
      ],
      "metadata": {
        "colab": {
          "base_uri": "https://localhost:8080/"
        },
        "id": "-u8SpHyKXbKP",
        "outputId": "c09150a9-bf67-4d81-ee98-9954ec4989c6"
      },
      "execution_count": 27,
      "outputs": [
        {
          "output_type": "stream",
          "name": "stdout",
          "text": [
            "Index(['PassengerId', 'Survived', 'Pclass', 'Name', 'Sex', 'Age', 'SibSp',\n",
            "       'Parch', 'Ticket', 'Fare', 'Cabin', 'Embarked'],\n",
            "      dtype='object')\n"
          ]
        }
      ]
    },
    {
      "cell_type": "markdown",
      "source": [
        "**Exercise 3: Feature Engineering\n",
        "Instructions,**\n",
        "=\n",
        "Create new features, such as Family Size from SibSp and Parch, and Title extracted from the Name column.\n",
        "Convert categorical variables into numerical form using techniques like one-hot encoding or label encoding.\n",
        "Normalize or standardize numerical features if required.\n",
        "Hint: Utilize Pandas for data manipulation and scikit-learn's preprocessing module for encoding."
      ],
      "metadata": {
        "id": "IgDA8Q4MDV5s"
      }
    },
    {
      "cell_type": "code",
      "source": [
        "# Create 'FamilySize' feature\n",
        "titanic_data_copy['FamilySize'] = titanic_data_copy['SibSp'] + titanic_data_copy['Parch'] + 1\n",
        "\n",
        "\n",
        "titanic_data_copy['Title'] = titanic_data_copy['Name'].str.extract(' ([A-Za-z]+)\\.', expand=False)\n",
        "\n",
        "titanic_data_copy['Title'] = titanic_data_copy['Title'].replace(['Lady', 'Countess','Capt', 'Col','Don', 'Dr', 'Major', 'Rev', 'Sir', 'Jonkheer', 'Dona'], 'Rare')\n",
        "titanic_data_copy['Title'] = titanic_data_copy['Title'].replace('Mlle', 'Miss')\n",
        "titanic_data_copy['Title'] = titanic_data_copy['Title'].replace('Ms', 'Miss')\n",
        "titanic_data_copy['Title'] = titanic_data_copy['Title'].replace('Mme', 'Mrs')\n",
        "\n",
        "print(titanic_data_copy[['FamilySize', 'Title']].head())\n"
      ],
      "metadata": {
        "colab": {
          "base_uri": "https://localhost:8080/"
        },
        "id": "GE6CzWdoaTyG",
        "outputId": "2eb8a384-3011-4a1b-ff43-9e292f5e203d"
      },
      "execution_count": 28,
      "outputs": [
        {
          "output_type": "stream",
          "name": "stdout",
          "text": [
            "   FamilySize Title\n",
            "0           2    Mr\n",
            "1           2   Mrs\n",
            "2           1  Miss\n",
            "3           2   Mrs\n",
            "4           1    Mr\n"
          ]
        }
      ]
    },
    {
      "cell_type": "markdown",
      "source": [
        "**Exercise 5: Data Standardization and Normalization**\n",
        "Instructions\n",
        "Assess the scale and distribution of numerical columns in the dataset.\n",
        "Apply standardization to features with a wide range of values.\n",
        "Normalize data that requires a bounded range, like [0, 1].\n",
        "Hint: Consider using StandardScaler and MinMaxScaler from scikit-learn’s preprocessing module."
      ],
      "metadata": {
        "id": "rElB-Kkk6H4V"
      }
    },
    {
      "source": [
        "# Descriptive statistics\n",
        "print(titanic_data_copy[['Age', 'Fare', 'FamilySize']].describe())\n",
        "\n",
        "\n",
        "import matplotlib.pyplot as plt\n",
        "import seaborn as sns\n",
        "\n",
        "plt.figure(figsize=(12, 4))\n",
        "plt.subplot(1, 3, 1)\n",
        "sns.histplot(titanic_data_copy['Age'], kde=True)\n",
        "plt.title('Age Distribution')\n",
        "\n",
        "plt.subplot(1, 3, 2)\n",
        "sns.histplot(titanic_data_copy['Fare'], kde=True)\n",
        "plt.title('Fare Distribution')\n",
        "\n",
        "plt.subplot(1, 3, 3)\n",
        "sns.histplot(titanic_data_copy['FamilySize'], kde=True)\n",
        "plt.title('FamilySize Distribution')\n",
        "\n",
        "plt.tight_layout()\n",
        "plt.show()"
      ],
      "cell_type": "code",
      "metadata": {
        "colab": {
          "base_uri": "https://localhost:8080/",
          "height": 538
        },
        "id": "vKy1dkE16yMy",
        "outputId": "7325850f-65d6-42b5-8c7c-b7f1e9268f57"
      },
      "execution_count": 29,
      "outputs": [
        {
          "output_type": "stream",
          "name": "stdout",
          "text": [
            "              Age        Fare  FamilySize\n",
            "count  891.000000  891.000000  891.000000\n",
            "mean    29.361582   32.204208    1.904602\n",
            "std     13.019697   49.693429    1.613459\n",
            "min      0.420000    0.000000    1.000000\n",
            "25%     22.000000    7.910400    1.000000\n",
            "50%     28.000000   14.454200    1.000000\n",
            "75%     35.000000   31.000000    2.000000\n",
            "max     80.000000  512.329200   11.000000\n"
          ]
        },
        {
          "output_type": "display_data",
          "data": {
            "text/plain": [
              "<Figure size 1200x400 with 3 Axes>"
            ],
            "image/png": "[encoded data removed]"
          },
          "metadata": {}
        }
      ]
    },
    {
      "source": [
        "# Standardization\n",
        "numerical_features_to_standardize = ['Age', 'Fare']\n",
        "scaler = StandardScaler()\n",
        "titanic_data_copy[numerical_features_to_standardize] = scaler.fit_transform(titanic_data_copy[numerical_features_to_standardize])\n"
      ],
      "cell_type": "code",
      "metadata": {
        "id": "lt1ZHCy777gR"
      },
      "execution_count": 30,
      "outputs": []
    },
    {
      "source": [
        "import numpy as np\n",
        "titanic_data_copy['Age'] = titanic_data_copy['Age'].replace([np.inf, -np.inf], np.nan)\n",
        "titanic_data_copy['Age'] = titanic_data_copy['Age'].fillna(titanic_data_copy['Age'].median())"
      ],
      "cell_type": "code",
      "metadata": {
        "id": "AtTrijUgCO0r"
      },
      "execution_count": 32,
      "outputs": []
    },
    {
      "cell_type": "markdown",
      "source": [
        " **Exercise 6: Feature Encoding\n",
        "Instructions**\n",
        "Identify categorical columns in the Titanic dataset, such as Sex and Embarked.\n",
        "Use one-hot encoding for nominal variables and label encoding for ordinal variables.\n",
        "Integrate the encoded features back into the main dataset.\n",
        "Hint: Utilize pandas.get_dummies() for one-hot encoding and LabelEncoder from scikit-learn for label encoding."
      ],
      "metadata": {
        "id": "nd3PrCok-kzA"
      }
    },
    {
      "cell_type": "code",
      "source": [
        "from sklearn.preprocessing import LabelEncoder\n",
        "\n",
        "titanic_data_encoded = pd.get_dummies(titanic_data_copy, columns=['Sex', 'Embarked'], drop_first=True)\n",
        "\n",
        "print(titanic_data_encoded.head())\n"
      ],
      "metadata": {
        "colab": {
          "base_uri": "https://localhost:8080/"
        },
        "id": "0mSjyqJm-qLI",
        "outputId": "24bcb1ea-961c-4608-e4eb-32c3e97887a7"
      },
      "execution_count": 33,
      "outputs": [
        {
          "output_type": "stream",
          "name": "stdout",
          "text": [
            "   PassengerId  Survived  Pclass  \\\n",
            "0            1         0       3   \n",
            "1            2         1       1   \n",
            "2            3         1       3   \n",
            "3            4         1       1   \n",
            "4            5         0       3   \n",
            "\n",
            "                                                Name       Age  SibSp  Parch  \\\n",
            "0                            Braund, Mr. Owen Harris -0.565736      1      0   \n",
            "1  Cumings, Mrs. John Bradley (Florence Briggs Th...  0.663861      1      0   \n",
            "2                             Heikkinen, Miss. Laina -0.258337      0      0   \n",
            "3       Futrelle, Mrs. Jacques Heath (Lily May Peel)  0.433312      1      0   \n",
            "4                           Allen, Mr. William Henry  0.433312      0      0   \n",
            "\n",
            "             Ticket      Fare Cabin  FamilySize Title  Sex_male  Embarked_Q  \\\n",
            "0         A/5 21171 -0.502445   NaN           2    Mr      True       False   \n",
            "1          PC 17599  0.786845   C85           2   Mrs     False       False   \n",
            "2  STON/O2. 3101282 -0.488854   NaN           1  Miss     False       False   \n",
            "3            113803  0.420730  C123           2   Mrs     False       False   \n",
            "4            373450 -0.486337   NaN           1    Mr      True       False   \n",
            "\n",
            "   Embarked_S  Embarked_Unknown  \n",
            "0        True             False  \n",
            "1       False             False  \n",
            "2        True             False  \n",
            "3        True             False  \n",
            "4        True             False  \n"
          ]
        }
      ]
    },
    {
      "cell_type": "markdown",
      "source": [
        "**Exercise 7: Data Transformation for Age Feature**\n",
        "Instructions\n",
        "Create age groups (bins) from the Age column to categorize passengers into different age categories.\n",
        "Apply one-hot encoding to the age groups to convert them into binary features.\n",
        "Hint: Use pd.cut() for binning the Age column and pd.get_dummies() for one-hot encoding."
      ],
      "metadata": {
        "id": "zwa2HGnOAuQU"
      }
    },
    {
      "cell_type": "code",
      "source": [
        "# Check for infinite values in the 'Age' column\n",
        "if not np.all(np.isfinite(titanic_data_copy['Age'])):\n",
        "    print(\"There are infinite values in the Age column.\")\n",
        "    # Replace or handle infinite values as necessary\n",
        "    titanic_data_copy['Age'] = np.where(np.isfinite(titanic_data_copy['Age']), titanic_data_copy['Age'], np.nan)\n",
        "\n",
        "# Reapply imputation if necessary\n",
        "titanic_data_copy['Age'] = titanic_data_copy['Age'].fillna(titanic_data_copy['Age'].median())\n"
      ],
      "metadata": {
        "colab": {
          "base_uri": "https://localhost:8080/"
        },
        "id": "O4UXmGA3DBYa",
        "outputId": "b7ad3e22-874d-43da-fec4-d4ead2b3854f"
      },
      "execution_count": 37,
      "outputs": [
        {
          "output_type": "stream",
          "name": "stdout",
          "text": [
            "There are infinite values in the Age column.\n"
          ]
        }
      ]
    },
    {
      "cell_type": "code",
      "source": [
        "if not np.all(np.isfinite(titanic_data_copy['Age'])):\n",
        "    print(\"There are infinite values in the Age column.\")\n",
        "\n",
        "# Replace infinite values with NaN\n",
        "titanic_data_copy['Age'] = np.where(np.isfinite(titanic_data_copy['Age']), titanic_data_copy['Age'], np.nan)\n",
        "\n",
        "# Reapply imputation to fill NaN values\n",
        "titanic_data_copy['Age'] = titanic_data_copy['Age'].fillna(titanic_data_copy['Age'].median())"
      ],
      "metadata": {
        "id": "PMKZKPAzESna"
      },
      "execution_count": 38,
      "outputs": []
    },
    {
      "cell_type": "code",
      "source": [
        "print(titanic_data_copy['Age'].isnull().sum())\n",
        "print(np.isfinite(titanic_data_copy['Age']).sum())\n"
      ],
      "metadata": {
        "colab": {
          "base_uri": "https://localhost:8080/"
        },
        "id": "O6k21H4uEZHl",
        "outputId": "34e1d069-83a2-4421-dc95-e16a0117663a"
      },
      "execution_count": 40,
      "outputs": [
        {
          "output_type": "stream",
          "name": "stdout",
          "text": [
            "0\n",
            "891\n"
          ]
        }
      ]
    },
    {
      "cell_type": "code",
      "source": [],
      "metadata": {
        "id": "d9_gMfdCEi8b"
      },
      "execution_count": null,
      "outputs": []
    },
    {
      "cell_type": "code",
      "source": [
        "\n",
        "bins = [0, 12, 18, 25, 35, 50, 65, 100]\n",
        "labels = ['Child', 'Teen', 'Young Adult', 'Adult', 'Middle-Aged', 'Senior', 'Elderly']\n",
        "\n",
        "titanic_data_copy['AgeGroup'] = pd.cut(titanic_data_copy['Age'], bins=bins, labels=labels, right=False)\n",
        "\n",
        "age_group_dummies = pd.get_dummies(titanic_data_copy['AgeGroup'], prefix='AgeGroup', drop_first=True)\n",
        "\n",
        "titanic_data_encoded = pd.concat([titanic_data_copy, age_group_dummies], axis=1)\n",
        "\n",
        "print(titanic_data_encoded[['Age', 'AgeGroup'] + list(age_group_dummies.columns)].head())"
      ],
      "metadata": {
        "colab": {
          "base_uri": "https://localhost:8080/"
        },
        "id": "J5pEzgXyA48i",
        "outputId": "84860d30-0bfd-4ede-c862-a1b804fc7043"
      },
      "execution_count": 41,
      "outputs": [
        {
          "output_type": "stream",
          "name": "stdout",
          "text": [
            "    Age     AgeGroup  AgeGroup_Teen  AgeGroup_Young Adult  AgeGroup_Adult  \\\n",
            "0  22.0  Young Adult          False                  True           False   \n",
            "1  38.0  Middle-Aged          False                 False           False   \n",
            "2  26.0        Adult          False                 False            True   \n",
            "3  35.0  Middle-Aged          False                 False           False   \n",
            "4  35.0  Middle-Aged          False                 False           False   \n",
            "\n",
            "   AgeGroup_Middle-Aged  AgeGroup_Senior  AgeGroup_Elderly  \n",
            "0                 False            False             False  \n",
            "1                  True            False             False  \n",
            "2                 False            False             False  \n",
            "3                  True            False             False  \n",
            "4                  True            False             False  \n"
          ]
        }
      ]
    }
  ]
}