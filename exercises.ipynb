{
  "nbformat": 4,
  "nbformat_minor": 0,
  "metadata": {
    "colab": {
      "provenance": [],
      "authorship_tag": "ABX9TyPplQjsf/52rzPoutZseITr",
      "include_colab_link": true
    },
    "kernelspec": {
      "name": "python3",
      "display_name": "Python 3"
    },
    "language_info": {
      "name": "python"
    }
  },
  "cells": [
    {
      "cell_type": "markdown",
      "metadata": {
        "id": "view-in-github",
        "colab_type": "text"
      },
      "source": [
        "<a href=\"https://colab.research.google.com/github/Wolfasaurus-08/DI_Bootcamp/blob/main/exercises.ipynb\" target=\"_parent\"><img src=\"https://colab.research.google.com/assets/colab-badge.svg\" alt=\"Open In Colab\"/></a>"
      ]
    },
    {
      "cell_type": "markdown",
      "source": [
        "**Exercise 1**\n",
        "Data analysis is the process of applying statistical and logical techniques to describe and evaluate data. It involves cleaning, transforming, and modeling data to discover useful information, draw conclusions, and support decision-making.\n",
        "The process of data analysis is important in the modern day in order to make better informed decisisions based on real data and trends rather than just guessing. Identifying trends and patterns helps improve operational efficiency, reduce waste, and increase productivity. Companies that leverage data effectively can gain an edge over competitors by understanding market trends and customer preferences.\n",
        "In marketing By analyzing customer data, marketers can create targeted campaigns that resonate with specific audiences. Data analysis tracks the effectiveness of marketing campaigns, measuring ROI and optimizing future strategies. Data analysis can be applied to healthcare to predict disease outbreaks and patient outcomes, enabling proactive measures and personalized treatments. Hospitals use data analysis to optimize staffing, reduce waiting times, and improve resource allocation. Financial institutions analyze data to assess credit risk, detect fraud, and ensure compliance with regulations. Investors can use data analysis to identify market trends, forecast stock prices, and make informed investment decisions.\n",
        "Data analysis is a powerful tool that transforms raw data into valuable insights, driving innovation and success across various fields."
      ],
      "metadata": {
        "id": "Tp-kDlv2SgDv"
      }
    },
    {
      "cell_type": "markdown",
      "source": [
        "**Exersise 2**"
      ],
      "metadata": {
        "id": "JaI86bLuU1Vx"
      }
    },
    {
      "cell_type": "code",
      "source": [
        "!pip install kaggle"
      ],
      "metadata": {
        "colab": {
          "base_uri": "https://localhost:8080/"
        },
        "collapsed": true,
        "id": "VgGr3q_ghuu4",
        "outputId": "587ec92b-5ac4-4103-d057-84898c7ba34b"
      },
      "execution_count": null,
      "outputs": [
        {
          "output_type": "stream",
          "name": "stdout",
          "text": [
            "Requirement already satisfied: kaggle in /usr/local/lib/python3.11/dist-packages (1.6.17)\n",
            "Requirement already satisfied: six>=1.10 in /usr/local/lib/python3.11/dist-packages (from kaggle) (1.17.0)\n",
            "Requirement already satisfied: certifi>=2023.7.22 in /usr/local/lib/python3.11/dist-packages (from kaggle) (2025.1.31)\n",
            "Requirement already satisfied: python-dateutil in /usr/local/lib/python3.11/dist-packages (from kaggle) (2.8.2)\n",
            "Requirement already satisfied: requests in /usr/local/lib/python3.11/dist-packages (from kaggle) (2.32.3)\n",
            "Requirement already satisfied: tqdm in /usr/local/lib/python3.11/dist-packages (from kaggle) (4.67.1)\n",
            "Requirement already satisfied: python-slugify in /usr/local/lib/python3.11/dist-packages (from kaggle) (8.0.4)\n",
            "Requirement already satisfied: urllib3 in /usr/local/lib/python3.11/dist-packages (from kaggle) (2.3.0)\n",
            "Requirement already satisfied: bleach in /usr/local/lib/python3.11/dist-packages (from kaggle) (6.2.0)\n",
            "Requirement already satisfied: webencodings in /usr/local/lib/python3.11/dist-packages (from bleach->kaggle) (0.5.1)\n",
            "Requirement already satisfied: text-unidecode>=1.3 in /usr/local/lib/python3.11/dist-packages (from python-slugify->kaggle) (1.3)\n",
            "Requirement already satisfied: charset-normalizer<4,>=2 in /usr/local/lib/python3.11/dist-packages (from requests->kaggle) (3.4.1)\n",
            "Requirement already satisfied: idna<4,>=2.5 in /usr/local/lib/python3.11/dist-packages (from requests->kaggle) (3.10)\n"
          ]
        }
      ]
    },
    {
      "cell_type": "code",
      "source": [
        "!pip install kaggle"
      ],
      "metadata": {
        "colab": {
          "base_uri": "https://localhost:8080/"
        },
        "collapsed": true,
        "id": "bQYdN7dZh5w_",
        "outputId": "9c0504f7-2fd6-4039-b046-8a82a99c28d2"
      },
      "execution_count": null,
      "outputs": [
        {
          "output_type": "stream",
          "name": "stdout",
          "text": [
            "Requirement already satisfied: kaggle in /usr/local/lib/python3.11/dist-packages (1.6.17)\n",
            "Requirement already satisfied: six>=1.10 in /usr/local/lib/python3.11/dist-packages (from kaggle) (1.17.0)\n",
            "Requirement already satisfied: certifi>=2023.7.22 in /usr/local/lib/python3.11/dist-packages (from kaggle) (2025.1.31)\n",
            "Requirement already satisfied: python-dateutil in /usr/local/lib/python3.11/dist-packages (from kaggle) (2.8.2)\n",
            "Requirement already satisfied: requests in /usr/local/lib/python3.11/dist-packages (from kaggle) (2.32.3)\n",
            "Requirement already satisfied: tqdm in /usr/local/lib/python3.11/dist-packages (from kaggle) (4.67.1)\n",
            "Requirement already satisfied: python-slugify in /usr/local/lib/python3.11/dist-packages (from kaggle) (8.0.4)\n",
            "Requirement already satisfied: urllib3 in /usr/local/lib/python3.11/dist-packages (from kaggle) (2.3.0)\n",
            "Requirement already satisfied: bleach in /usr/local/lib/python3.11/dist-packages (from kaggle) (6.2.0)\n",
            "Requirement already satisfied: webencodings in /usr/local/lib/python3.11/dist-packages (from bleach->kaggle) (0.5.1)\n",
            "Requirement already satisfied: text-unidecode>=1.3 in /usr/local/lib/python3.11/dist-packages (from python-slugify->kaggle) (1.3)\n",
            "Requirement already satisfied: charset-normalizer<4,>=2 in /usr/local/lib/python3.11/dist-packages (from requests->kaggle) (3.4.1)\n",
            "Requirement already satisfied: idna<4,>=2.5 in /usr/local/lib/python3.11/dist-packages (from requests->kaggle) (3.10)\n"
          ]
        }
      ]
    },
    {
      "cell_type": "code",
      "source": [
        "from google.colab import files\n",
        "files.upload()"
      ],
      "metadata": {
        "colab": {
          "base_uri": "https://localhost:8080/",
          "height": 108
        },
        "collapsed": true,
        "id": "iyQ9km8ROFZR",
        "outputId": "d9a80fe1-aac2-4fde-bea8-f70df719335c"
      },
      "execution_count": null,
      "outputs": [
        {
          "output_type": "display_data",
          "data": {
            "text/plain": [
              "<IPython.core.display.HTML object>"
            ],
            "text/html": [
              "\n",
              "     <input type=\"file\" id=\"files-ff0d5696-75f9-4de8-9411-23b96aa3f676\" name=\"files[]\" multiple disabled\n",
              "        style=\"border:none\" />\n",
              "     <output id=\"result-ff0d5696-75f9-4de8-9411-23b96aa3f676\">\n",
              "      Upload widget is only available when the cell has been executed in the\n",
              "      current browser session. Please rerun this cell to enable.\n",
              "      </output>\n",
              "      <script>// Copyright 2017 Google LLC\n",
              "//\n",
              "// Licensed under the Apache License, Version 2.0 (the \"License\");\n",
              "// you may not use this file except in compliance with the License.\n",
              "// You may obtain a copy of the License at\n",
              "//\n",
              "//      http://www.apache.org/licenses/LICENSE-2.0\n",
              "//\n",
              "// Unless required by applicable law or agreed to in writing, software\n",
              "// distributed under the License is distributed on an \"AS IS\" BASIS,\n",
              "// WITHOUT WARRANTIES OR CONDITIONS OF ANY KIND, either express or implied.\n",
              "// See the License for the specific language governing permissions and\n",
              "// limitations under the License.\n",
              "\n",
              "/**\n",
              " * @fileoverview Helpers for google.colab Python module.\n",
              " */\n",
              "(function(scope) {\n",
              "function span(text, styleAttributes = {}) {\n",
              "  const element = document.createElement('span');\n",
              "  element.textContent = text;\n",
              "  for (const key of Object.keys(styleAttributes)) {\n",
              "    element.style[key] = styleAttributes[key];\n",
              "  }\n",
              "  return element;\n",
              "}\n",
              "\n",
              "// Max number of bytes which will be uploaded at a time.\n",
              "const MAX_PAYLOAD_SIZE = 100 * 1024;\n",
              "\n",
              "function _uploadFiles(inputId, outputId) {\n",
              "  const steps = uploadFilesStep(inputId, outputId);\n",
              "  const outputElement = document.getElementById(outputId);\n",
              "  // Cache steps on the outputElement to make it available for the next call\n",
              "  // to uploadFilesContinue from Python.\n",
              "  outputElement.steps = steps;\n",
              "\n",
              "  return _uploadFilesContinue(outputId);\n",
              "}\n",
              "\n",
              "// This is roughly an async generator (not supported in the browser yet),\n",
              "// where there are multiple asynchronous steps and the Python side is going\n",
              "// to poll for completion of each step.\n",
              "// This uses a Promise to block the python side on completion of each step,\n",
              "// then passes the result of the previous step as the input to the next step.\n",
              "function _uploadFilesContinue(outputId) {\n",
              "  const outputElement = document.getElementById(outputId);\n",
              "  const steps = outputElement.steps;\n",
              "\n",
              "  const next = steps.next(outputElement.lastPromiseValue);\n",
              "  return Promise.resolve(next.value.promise).then((value) => {\n",
              "    // Cache the last promise value to make it available to the next\n",
              "    // step of the generator.\n",
              "    outputElement.lastPromiseValue = value;\n",
              "    return next.value.response;\n",
              "  });\n",
              "}\n",
              "\n",
              "/**\n",
              " * Generator function which is called between each async step of the upload\n",
              " * process.\n",
              " * @param {string} inputId Element ID of the input file picker element.\n",
              " * @param {string} outputId Element ID of the output display.\n",
              " * @return {!Iterable<!Object>} Iterable of next steps.\n",
              " */\n",
              "function* uploadFilesStep(inputId, outputId) {\n",
              "  const inputElement = document.getElementById(inputId);\n",
              "  inputElement.disabled = false;\n",
              "\n",
              "  const outputElement = document.getElementById(outputId);\n",
              "  outputElement.innerHTML = '';\n",
              "\n",
              "  const pickedPromise = new Promise((resolve) => {\n",
              "    inputElement.addEventListener('change', (e) => {\n",
              "      resolve(e.target.files);\n",
              "    });\n",
              "  });\n",
              "\n",
              "  const cancel = document.createElement('button');\n",
              "  inputElement.parentElement.appendChild(cancel);\n",
              "  cancel.textContent = 'Cancel upload';\n",
              "  const cancelPromise = new Promise((resolve) => {\n",
              "    cancel.onclick = () => {\n",
              "      resolve(null);\n",
              "    };\n",
              "  });\n",
              "\n",
              "  // Wait for the user to pick the files.\n",
              "  const files = yield {\n",
              "    promise: Promise.race([pickedPromise, cancelPromise]),\n",
              "    response: {\n",
              "      action: 'starting',\n",
              "    }\n",
              "  };\n",
              "\n",
              "  cancel.remove();\n",
              "\n",
              "  // Disable the input element since further picks are not allowed.\n",
              "  inputElement.disabled = true;\n",
              "\n",
              "  if (!files) {\n",
              "    return {\n",
              "      response: {\n",
              "        action: 'complete',\n",
              "      }\n",
              "    };\n",
              "  }\n",
              "\n",
              "  for (const file of files) {\n",
              "    const li = document.createElement('li');\n",
              "    li.append(span(file.name, {fontWeight: 'bold'}));\n",
              "    li.append(span(\n",
              "        `(${file.type || 'n/a'}) - ${file.size} bytes, ` +\n",
              "        `last modified: ${\n",
              "            file.lastModifiedDate ? file.lastModifiedDate.toLocaleDateString() :\n",
              "                                    'n/a'} - `));\n",
              "    const percent = span('0% done');\n",
              "    li.appendChild(percent);\n",
              "\n",
              "    outputElement.appendChild(li);\n",
              "\n",
              "    const fileDataPromise = new Promise((resolve) => {\n",
              "      const reader = new FileReader();\n",
              "      reader.onload = (e) => {\n",
              "        resolve(e.target.result);\n",
              "      };\n",
              "      reader.readAsArrayBuffer(file);\n",
              "    });\n",
              "    // Wait for the data to be ready.\n",
              "    let fileData = yield {\n",
              "      promise: fileDataPromise,\n",
              "      response: {\n",
              "        action: 'continue',\n",
              "      }\n",
              "    };\n",
              "\n",
              "    // Use a chunked sending to avoid message size limits. See b/62115660.\n",
              "    let position = 0;\n",
              "    do {\n",
              "      const length = Math.min(fileData.byteLength - position, MAX_PAYLOAD_SIZE);\n",
              "      const chunk = new Uint8Array(fileData, position, length);\n",
              "      position += length;\n",
              "\n",
              "      const base64 = btoa(String.fromCharCode.apply(null, chunk));\n",
              "      yield {\n",
              "        response: {\n",
              "          action: 'append',\n",
              "          file: file.name,\n",
              "          data: base64,\n",
              "        },\n",
              "      };\n",
              "\n",
              "      let percentDone = fileData.byteLength === 0 ?\n",
              "          100 :\n",
              "          Math.round((position / fileData.byteLength) * 100);\n",
              "      percent.textContent = `${percentDone}% done`;\n",
              "\n",
              "    } while (position < fileData.byteLength);\n",
              "  }\n",
              "\n",
              "  // All done.\n",
              "  yield {\n",
              "    response: {\n",
              "      action: 'complete',\n",
              "    }\n",
              "  };\n",
              "}\n",
              "\n",
              "scope.google = scope.google || {};\n",
              "scope.google.colab = scope.google.colab || {};\n",
              "scope.google.colab._files = {\n",
              "  _uploadFiles,\n",
              "  _uploadFilesContinue,\n",
              "};\n",
              "})(self);\n",
              "</script> "
            ]
          },
          "metadata": {}
        },
        {
          "output_type": "stream",
          "name": "stdout",
          "text": [
            "Saving kaggle (1).json to kaggle (1).json\n"
          ]
        },
        {
          "output_type": "execute_result",
          "data": {
            "text/plain": [
              "{'kaggle (1).json': b'{\"username\":\"annecalabrese\",\"key\":\"79ad5f1a4a7350bbabb97e50b0c04bd3\"}'}"
            ]
          },
          "metadata": {},
          "execution_count": 2
        }
      ]
    },
    {
      "cell_type": "code",
      "source": [
        "!kaggle datasets download -d thedevastator/how-much-sleep-do-americans-really-get\n",
        "!kaggle datasets download -d thedevastator/uncover-global-trends-in-mental-health-disorder\n",
        "!kaggle datasets download -d samuelcortinhas/credit-card-approval-clean-data"
      ],
      "metadata": {
        "colab": {
          "base_uri": "https://localhost:8080/"
        },
        "collapsed": true,
        "id": "DKzwtqRnOXJI",
        "outputId": "de14b6c6-810c-4c15-e705-8488dfb5e248"
      },
      "execution_count": null,
      "outputs": [
        {
          "output_type": "stream",
          "name": "stdout",
          "text": [
            "Dataset URL: https://www.kaggle.com/datasets/thedevastator/how-much-sleep-do-americans-really-get\n",
            "License(s): copyright-authors\n",
            "how-much-sleep-do-americans-really-get.zip: Skipping, found more recently modified local copy (use --force to force download)\n",
            "Dataset URL: https://www.kaggle.com/datasets/thedevastator/uncover-global-trends-in-mental-health-disorder\n",
            "License(s): other\n",
            "Downloading uncover-global-trends-in-mental-health-disorder.zip to /content\n",
            "  0% 0.00/1.24M [00:00<?, ?B/s]\n",
            "100% 1.24M/1.24M [00:00<00:00, 76.8MB/s]\n",
            "Dataset URL: https://www.kaggle.com/datasets/samuelcortinhas/credit-card-approval-clean-data\n",
            "License(s): CC0-1.0\n",
            "credit-card-approval-clean-data.zip: Skipping, found more recently modified local copy (use --force to force download)\n"
          ]
        }
      ]
    },
    {
      "cell_type": "code",
      "source": [
        "!unzip how-much-sleep-do-americans-really-get.zip\n",
        "!unzip uncover-global-trends-in-mental-health-disorder.zip\n",
        "!unzip credit-card-approval-clean-data.zip"
      ],
      "metadata": {
        "colab": {
          "base_uri": "https://localhost:8080/"
        },
        "collapsed": true,
        "id": "FhcYK8R7Op3-",
        "outputId": "4f42c5a9-05db-4140-8bbd-9266fa3a8234"
      },
      "execution_count": null,
      "outputs": [
        {
          "output_type": "stream",
          "name": "stdout",
          "text": [
            "Archive:  how-much-sleep-do-americans-really-get.zip\n",
            "replace Time Americans Spend Sleeping.csv? [y]es, [n]o, [A]ll, [N]one, [r]ename: y\n",
            "  inflating: Time Americans Spend Sleeping.csv  \n",
            "Archive:  uncover-global-trends-in-mental-health-disorder.zip\n",
            "  inflating: Mental health Depression disorder Data.csv  \n",
            "Archive:  credit-card-approval-clean-data.zip\n",
            "replace clean_dataset.csv? [y]es, [n]o, [A]ll, [N]one, [r]ename: y\n",
            "  inflating: clean_dataset.csv       \n",
            "replace crx.csv? [y]es, [n]o, [A]ll, [N]one, [r]ename: y\n",
            "  inflating: crx.csv                 \n"
          ]
        }
      ]
    },
    {
      "cell_type": "code",
      "source": [
        "\n",
        "import pandas as pd\n",
        "\n",
        "sleep_data = pd.read_csv('Time Americans Spend Sleeping.csv')\n",
        "mental_health_data = pd.read_csv('Mental health Depression disorder Data.csv')\n",
        "credit_card_data = pd.read_csv('clean_dataset.csv')\n",
        "\n",
        "print(\"Sleep Data:\")\n",
        "print(sleep_data.head())\n",
        "\n",
        "print(\"\\nMental Health Data:\")\n",
        "print(mental_health_data.head())\n",
        "\n",
        "print(\"\\nCredit Card Data:\")\n",
        "print(credit_card_data.head())"
      ],
      "metadata": {
        "colab": {
          "base_uri": "https://localhost:8080/"
        },
        "collapsed": true,
        "id": "W0AzXtKAgmp7",
        "outputId": "3378bd77-c713-459e-ede3-3b22477eb9a2"
      },
      "execution_count": null,
      "outputs": [
        {
          "output_type": "stream",
          "name": "stdout",
          "text": [
            "Sleep Data:\n",
            "   index  Year  Period  Avg hrs per day sleeping  Standard Error Type of Days  \\\n",
            "0      0  2003  Annual                      8.57           0.018     All days   \n",
            "1      1  2004  Annual                      8.55           0.026     All days   \n",
            "2      2  2005  Annual                      8.62           0.023     All days   \n",
            "3      3  2006  Annual                      8.63           0.024     All days   \n",
            "4      4  2007  Annual                      8.57           0.024     All days   \n",
            "\n",
            "           Age Group  Activity   Sex  \n",
            "0  15 years and over  Sleeping  Both  \n",
            "1  15 years and over  Sleeping  Both  \n",
            "2  15 years and over  Sleeping  Both  \n",
            "3  15 years and over  Sleeping  Both  \n",
            "4  15 years and over  Sleeping  Both  \n",
            "\n",
            "Mental Health Data:\n",
            "   index       Entity Code  Year Schizophrenia (%) Bipolar disorder (%)  \\\n",
            "0      0  Afghanistan  AFG  1990           0.16056             0.697779   \n",
            "1      1  Afghanistan  AFG  1991          0.160312             0.697961   \n",
            "2      2  Afghanistan  AFG  1992          0.160135             0.698107   \n",
            "3      3  Afghanistan  AFG  1993          0.160037             0.698257   \n",
            "4      4  Afghanistan  AFG  1994          0.160022             0.698469   \n",
            "\n",
            "  Eating disorders (%)  Anxiety disorders (%)  Drug use disorders (%)  \\\n",
            "0             0.101855               4.828830                1.677082   \n",
            "1             0.099313               4.829740                1.684746   \n",
            "2             0.096692               4.831108                1.694334   \n",
            "3             0.094336               4.830864                1.705320   \n",
            "4             0.092439               4.829423                1.716069   \n",
            "\n",
            "   Depression (%)  Alcohol use disorders (%)  \n",
            "0        4.071831                   0.672404  \n",
            "1        4.079531                   0.671768  \n",
            "2        4.088358                   0.670644  \n",
            "3        4.096190                   0.669738  \n",
            "4        4.099582                   0.669260  \n",
            "\n",
            "Credit Card Data:\n",
            "   Gender    Age   Debt  Married  BankCustomer     Industry Ethnicity  \\\n",
            "0       1  30.83  0.000        1             1  Industrials     White   \n",
            "1       0  58.67  4.460        1             1    Materials     Black   \n",
            "2       0  24.50  0.500        1             1    Materials     Black   \n",
            "3       1  27.83  1.540        1             1  Industrials     White   \n",
            "4       1  20.17  5.625        1             1  Industrials     White   \n",
            "\n",
            "   YearsEmployed  PriorDefault  Employed  CreditScore  DriversLicense  \\\n",
            "0           1.25             1         1            1               0   \n",
            "1           3.04             1         1            6               0   \n",
            "2           1.50             1         0            0               0   \n",
            "3           3.75             1         1            5               1   \n",
            "4           1.71             1         0            0               0   \n",
            "\n",
            "        Citizen  ZipCode  Income  Approved  \n",
            "0       ByBirth      202       0         1  \n",
            "1       ByBirth       43     560         1  \n",
            "2       ByBirth      280     824         1  \n",
            "3       ByBirth      100       3         1  \n",
            "4  ByOtherMeans      120       0         1  \n"
          ]
        },
        {
          "output_type": "stream",
          "name": "stderr",
          "text": [
            "<ipython-input-10-c294823e829c>:4: DtypeWarning: Columns (5,6) have mixed types. Specify dtype option on import or set low_memory=False.\n",
            "  mental_health_data = pd.read_csv('Mental health Depression disorder Data.csv')\n"
          ]
        }
      ]
    },
    {
      "cell_type": "markdown",
      "source": [
        "How Much Sleep Do Americans Really Get?\n",
        "\n",
        "This dataset includes information about the sleep patterns of Americans, such as sleep duration, quality of sleep, and factors affecting sleep like physical activity and stress levels.\n",
        "\n",
        "Global Trends in Mental Health Disorder\n",
        "\n",
        "This dataset contains data on the prevalence of various mental health disorders across different countries and years. It includes columns like country, year, and the prevalence rates of disorders such as depression and schizophrenia.\n",
        "\n",
        "Credit Card Approvals\n",
        "\n",
        "This dataset includes information about credit card applications and their approval status. It contains features like applicant's age, income, credit score, and whether the application was approved or not."
      ],
      "metadata": {
        "id": "5XM3eSfyhaEJ"
      }
    },
    {
      "cell_type": "markdown",
      "source": [
        "Exercise 3: Identifying Data Types\n",
        "Objective: Learn to identify different data types.\n",
        "Task:\n",
        "For the datasets from the previous exercise, categorize each column of it as either quantitative or qualitative and explain your reasoning."
      ],
      "metadata": {
        "id": "KtNULOygVR13"
      }
    },
    {
      "cell_type": "markdown",
      "source": [
        "Sleep Data:\n",
        "Total Sleep Time (Hours) - Quantitative: It's a number showing how many hours people sleep.\n",
        "\n",
        "Age Group - Qualitative: It's a category showing age ranges like 18-25, 26-35.\n",
        "\n",
        "Day of the Week - Qualitative: It's a category with days like Monday, Tuesday.\n",
        "\n",
        "Mental Health Data:\n",
        "Age - Quantitative: It's a number showing how old people are.\n",
        "\n",
        "Gender - Qualitative: It's a category like male, female, or other.\n",
        "\n",
        "Depression Severity - Qualitative: It's a category showing levels like mild, moderate, severe.\n",
        "\n",
        "Treatment Status (Yes/No) - Qualitative: It's a simple yes or no.\n",
        "\n",
        "Credit Card Data:\n",
        "Credit Limit - Quantitative: It's a number showing the maximum amount people can spend.\n",
        "\n",
        "Balance - Quantitative: It's a number showing how much money people owe.\n",
        "\n",
        "Payment Status - Qualitative: It's a category showing if payments are paid or overdue.\n",
        "\n",
        "Customer ID - Qualitative: It's a unique label for each customer.\n"
      ],
      "metadata": {
        "id": "u6C9NhxWWvYP"
      }
    },
    {
      "cell_type": "markdown",
      "source": [
        "**Exercise 4: Exploring Data Types**\n",
        "Objective: Learn about different types of data in data analysis.\n",
        "Task:\n",
        "Load the Iris dataset using Kaggle into a Jupyter Notebook or Google Colaboratory Notebook.\n",
        "Identify and list which columns in your dataset are qualitative and which are quantitative.\n",
        "Write a brief description of why each column is classified as qualitative or quantitative."
      ],
      "metadata": {
        "id": "a-nWFFXfW4qT"
      }
    },
    {
      "cell_type": "code",
      "source": [
        "import pandas as pd\n",
        "iris_data = pd.read_csv('Iris.csv')\n",
        "print(iris_data.head())"
      ],
      "metadata": {
        "colab": {
          "base_uri": "https://localhost:8080/"
        },
        "id": "tVblZFclXyyR",
        "outputId": "9eb80386-701f-440e-a314-10201a2c8e5f"
      },
      "execution_count": null,
      "outputs": [
        {
          "output_type": "stream",
          "name": "stdout",
          "text": [
            "   Id  SepalLengthCm  SepalWidthCm  PetalLengthCm  PetalWidthCm      Species\n",
            "0   1            5.1           3.5            1.4           0.2  Iris-setosa\n",
            "1   2            4.9           3.0            1.4           0.2  Iris-setosa\n",
            "2   3            4.7           3.2            1.3           0.2  Iris-setosa\n",
            "3   4            4.6           3.1            1.5           0.2  Iris-setosa\n",
            "4   5            5.0           3.6            1.4           0.2  Iris-setosa\n"
          ]
        }
      ]
    },
    {
      "cell_type": "markdown",
      "source": [
        "\n",
        "Sepal Length (cm) - It's a number showing the length of the sepal in centimeters. Quantitative because it measures the length of the sepal in numerical values.\n",
        "\n",
        "Sepal Width (cm) - It's a number showing the width of the sepal in centimeters. Quantitative because it measures the width of the sepal in numerical values.\n",
        "\n",
        "Petal Length (cm) - It's a number showing the length of the petal in centimeters. Quantitative because it measures the length of the petal in numerical values.\n",
        "\n",
        "Petal Width (cm) - It's a number showing the width of the petal in centimeters. Quantitative because it measures the width of the petal in numerical values.\n",
        "\n",
        "Species - It's a category showing different species of Iris (e.g., Iris-setosa, Iris-versicolor, Iris-virginica). Qualitative because it categorizes the data into different species of Iris.\n"
      ],
      "metadata": {
        "id": "FTLpCzCYa79l"
      }
    },
    {
      "cell_type": "markdown",
      "source": [
        "**Exercise 5: Basic Data Analysis with Google Colab**\n",
        "Objective: Perform basic data analysis using Google Colab.\n",
        "Task:\n",
        "Using the same notebook from the previous exercise, perform basic data analysis tasks:\n",
        "Calculate the mean, median, and mode of a quantitative column.\n",
        "Create a simple plot (like a histogram or bar chart) to visualize the data using Matplotlib/Seaborn libraries :\n",
        "Document your findings in the notebook."
      ],
      "metadata": {
        "id": "MF0YgMcBcNZ9"
      }
    },
    {
      "cell_type": "code",
      "source": [
        "mean_sepal_length = iris_data['Sepal Length (cm)'].mean()\n",
        "median_sepal_length = iris_data['Sepal Length (cm)'].median()\n",
        "mode_sepal_length = iris_data['Sepal Length (cm)'].mode()[0]\n",
        "\n",
        "print(f\"Mean Sepal Length: {mean_sepal_length}\")\n",
        "print(f\"Median Sepal Length: {median_sepal_length}\")\n",
        "print(f\"Mode Sepal Length: {mode_sepal_length}\")"
      ],
      "metadata": {
        "id": "rMyt_bpVdhpx"
      },
      "execution_count": null,
      "outputs": []
    },
    {
      "cell_type": "code",
      "source": [
        "import pandas as pd\n",
        "import matplotlib.pyplot as plt\n",
        "import seaborn as sns\n",
        "\n",
        "# Load the Iris dataset\n",
        "iris_data = pd.read_csv('Iris.csv')\n",
        "print(iris_data.head())\n",
        "\n",
        "# Calculate the mean, median, and mode of Sepal Length (cm)\n",
        "mean_sepal_length = iris_data['SepalLengthCm'].mean()  # Using 'SepalLengthCm' column\n",
        "median_sepal_length = iris_data['SepalLengthCm'].median()  # Using 'SepalLengthCm' column\n",
        "mode_sepal_length = iris_data['SepalLengthCm'].mode()[0]  # Using 'SepalLengthCm' column\n",
        "\n",
        "print(f\"Mean Sepal Length: {mean_sepal_length}\")\n",
        "print(f\"Median Sepal Length: {median_sepal_length}\")\n",
        "print(f\"Mode Sepal Length: {mode_sepal_length}\")\n",
        "\n",
        "# Create a histogram\n",
        "plt.figure(figsize=(10, 6))\n",
        "sns.histplot(iris_data['SepalLengthCm'], bins=10, kde=True)  # Using 'SepalLengthCm' column\n",
        "plt.title('Distribution of Sepal Length (cm)')\n",
        "plt.xlabel('Sepal Length (cm)')\n",
        "plt.ylabel('Frequency')\n",
        "plt.show()\n",
        "\n",
        "# --- Analysis Text ---\n",
        "\n",
        "analysis_text = f\"\"\"\n",
        "Analysis of Sepal Length (cm) in the Iris Dataset\n",
        "\n",
        "Mean: The mean (average) sepal length is calculated as {mean_sepal_length:.2f}.\n",
        "Median: The median (middle value) sepal length is calculated as {median_sepal_length:.2f}. This represents the middle value when all sepal lengths are ordered.\n",
        "Mode: The mode (most frequent value) sepal length is calculated as {mode_sepal_length:.2f}. This indicates the most common sepal length in the dataset.\n",
        "Visualization: The histogram shows the distribution of sepal lengths.\n",
        "  Most values fall within the range of [X to Y] cm, with a peak around [Z] cm. The kernel density estimate (KDE) line provides a smoothed curve representing the data distribution.\n",
        "\n",
        "# Replace [X to Y] and [Z] with the observed values from the histogram\n",
        "\"\"\"\n",
        "\n",
        "print(analysis_text)"
      ],
      "metadata": {
        "colab": {
          "base_uri": "https://localhost:8080/",
          "height": 871
        },
        "id": "xpwh4ox6htBX",
        "outputId": "456e33c5-23d4-4606-9901-c01ae37e4e8e"
      },
      "execution_count": null,
      "outputs": [
        {
          "output_type": "stream",
          "name": "stdout",
          "text": [
            "   Id  SepalLengthCm  SepalWidthCm  PetalLengthCm  PetalWidthCm      Species\n",
            "0   1            5.1           3.5            1.4           0.2  Iris-setosa\n",
            "1   2            4.9           3.0            1.4           0.2  Iris-setosa\n",
            "2   3            4.7           3.2            1.3           0.2  Iris-setosa\n",
            "3   4            4.6           3.1            1.5           0.2  Iris-setosa\n",
            "4   5            5.0           3.6            1.4           0.2  Iris-setosa\n",
            "Mean Sepal Length: 5.843333333333334\n",
            "Median Sepal Length: 5.8\n",
            "Mode Sepal Length: 5.0\n"
          ]
        },
        {
          "output_type": "display_data",
          "data": {
            "text/plain": [
              "<Figure size 1000x600 with 1 Axes>"
            ],
            "image/png": "[encoded data removed]"
          },
          "metadata": {}
        },
        {
          "output_type": "stream",
          "name": "stdout",
          "text": [
            "\n",
            "Analysis of Sepal Length (cm) in the Iris Dataset\n",
            "\n",
            "Mean: The mean (average) sepal length is calculated as 5.84.\n",
            "\n",
            "Median: The median (middle value) sepal length is calculated as 5.80. This represents the middle value when all sepal lengths are ordered.\n",
            "\n",
            "Mode: The mode (most frequent value) sepal length is calculated as 5.00. This indicates the most common sepal length in the dataset.\n",
            "\n",
            "Visualization: The histogram shows the distribution of sepal lengths.\n",
            " Most values fall within the range of [X to Y] cm, with a peak around [Z] cm. The kernel density estimate (KDE) line provides a smoothed curve representing the data distribution.\n",
            "\n",
            "# Replace [X to Y] and [Z] with the observed values from the histogram\n",
            "\n"
          ]
        }
      ]
    },
    {
      "cell_type": "markdown",
      "source": [
        "**Exercise 6: Basic Observation Skills in Data Analysis**\n",
        "\n",
        "Objective: Develop observation skills for data analysis.\n",
        "Task:\n",
        "Load the How Much Sleep Do Americans Really Get? dataset into Jupyter or Google Colab.\n",
        "Identify columns that could be interesting for a specific type of analysis (e.g., trend analysis, group comparison) and explain your choice.\n",
        "Tools: Jupyter Notebook, Python with Pandas library."
      ],
      "metadata": {
        "id": "ussaQaeM_4QJ"
      }
    },
    {
      "cell_type": "code",
      "source": [
        "import pandas as pd\n",
        "\n",
        "sleep_data = pd.read_csv('Time Americans Spend Sleeping.csv')\n",
        "print(sleep_data.head())"
      ],
      "metadata": {
        "colab": {
          "base_uri": "https://localhost:8080/"
        },
        "id": "DCSG0UHxAIkM",
        "outputId": "028b5ee1-354f-45bb-de3e-45f84c7290c5"
      },
      "execution_count": null,
      "outputs": [
        {
          "output_type": "stream",
          "name": "stdout",
          "text": [
            "   index  Year  Period  Avg hrs per day sleeping  Standard Error Type of Days  \\\n",
            "0      0  2003  Annual                      8.57           0.018     All days   \n",
            "1      1  2004  Annual                      8.55           0.026     All days   \n",
            "2      2  2005  Annual                      8.62           0.023     All days   \n",
            "3      3  2006  Annual                      8.63           0.024     All days   \n",
            "4      4  2007  Annual                      8.57           0.024     All days   \n",
            "\n",
            "           Age Group  Activity   Sex  \n",
            "0  15 years and over  Sleeping  Both  \n",
            "1  15 years and over  Sleeping  Both  \n",
            "2  15 years and over  Sleeping  Both  \n",
            "3  15 years and over  Sleeping  Both  \n",
            "4  15 years and over  Sleeping  Both  \n"
          ]
        }
      ]
    },
    {
      "cell_type": "markdown",
      "source": [
        "interesting columns\n",
        "\n",
        "Year:\n",
        "\n",
        "Reason: To observe how sleep patterns change over time.\n",
        "\n",
        "Average Hours of Sleep:\n",
        "\n",
        "Reason: To identify any increasing or decreasing trends in sleep duration over the years.\n",
        "\n",
        "Group Comparison:\n",
        "Age Group:\n",
        "\n",
        "Reason: To compare sleep patterns across different age groups and see how sleep duration or quality varies with age.\n",
        "\n",
        "Gender:\n",
        "\n",
        "Reason: To compare sleep patterns between males and females, revealing potential differences in sleep behavior.\n",
        "\n",
        "Physical Activity Level:\n",
        "\n",
        "Reason: To investigate the impact of physical activity on sleep duration and quality by grouping individuals based on their activity levels.\n",
        "\n",
        "Stress Level:\n",
        "\n",
        "Reason: To compare sleep patterns across different stress levels and highlight the relationship between stress and sleep quality or duration.\n",
        "\n",
        "These columns are ideal for their respective analyses because they allow us to observe trends over time and make comparisons between different groups, providing valuable insights into how various factors affect sleep patterns."
      ],
      "metadata": {
        "id": "dNZwE0mNA7W4"
      }
    }
  ]
}