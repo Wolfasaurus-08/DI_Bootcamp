{
  "nbformat": 4,
  "nbformat_minor": 0,
  "metadata": {
    "colab": {
      "provenance": []
    },
    "kernelspec": {
      "name": "python3",
      "display_name": "Python 3"
    },
    "language_info": {
      "name": "python"
    }
  },
  "cells": [
    {
      "cell_type": "code",
      "execution_count": 1,
      "metadata": {
        "colab": {
          "base_uri": "https://localhost:8080/"
        },
        "id": "2NbWiMvBlqYJ",
        "outputId": "c8243f17-632e-4d84-a15a-bdf987ca12b4"
      },
      "outputs": [
        {
          "output_type": "stream",
          "name": "stdout",
          "text": [
            "Determinant: 0.0\n",
            "The matrix is singular and does not have an inverse.\n"
          ]
        }
      ],
      "source": [
        "\n",
        "\n",
        "import numpy as np\n",
        "\n",
        "# Create a 3x3 matrix\n",
        "matrix = np.array([[1, 2, 3],\n",
        "                   [4, 5, 6],\n",
        "                   [7, 8, 9]])\n",
        "\n",
        "# Calculate the determinant\n",
        "determinant = np.linalg.det(matrix)\n",
        "print(\"Determinant:\", determinant)\n",
        "\n",
        "# Find the inverse of the matrix\n",
        "try:\n",
        "    inverse_matrix = np.linalg.inv(matrix)\n",
        "    print(\"Inverse Matrix:\\n\", inverse_matrix)\n",
        "except np.linalg.LinAlgError:\n",
        "    print(\"The matrix is singular and does not have an inverse.\")\n"
      ]
    },
    {
      "cell_type": "code",
      "source": [
        "#🌟 Exercise 2 : Statistical Analysis\n",
        "\n",
        "# Generate an array of 50 random numbers\n",
        "random_numbers = np.random.rand(50)\n",
        "\n",
        "# Compute the mean and median\n",
        "mean = np.mean(random_numbers)\n",
        "median = np.median(random_numbers)\n",
        "\n",
        "# Compute the standard deviation\n",
        "std_dev = np.std(random_numbers)\n",
        "\n",
        "print(\"Mean:\", mean)\n",
        "print(\"Median:\", median)\n",
        "print(\"Standard Deviation:\", std_dev)\n"
      ],
      "metadata": {
        "id": "MO9WGyHGmWBd"
      },
      "execution_count": null,
      "outputs": []
    },
    {
      "cell_type": "code",
      "source": [
        "#Exercise 3 : Date Manipulation\n",
        "\n",
        "# Create a NumPy array of dates for January 2023\n",
        "dates = np.arange('2023-01-01', '2023-02-01', dtype='datetime64[D]')\n",
        "\n",
        "# Convert the dates to the YYYY/MM/DD format\n",
        "formatted_dates = [str(date).replace('-', '/') for date in dates]\n",
        "\n",
        "# Print the formatted dates\n",
        "formatted_dates\n"
      ],
      "metadata": {
        "colab": {
          "base_uri": "https://localhost:8080/"
        },
        "id": "jgjpBs1jmj82",
        "outputId": "2a57a33e-f538-4e75-e264-655b1af19b87"
      },
      "execution_count": 2,
      "outputs": [
        {
          "output_type": "execute_result",
          "data": {
            "text/plain": [
              "['2023/01/01',\n",
              " '2023/01/02',\n",
              " '2023/01/03',\n",
              " '2023/01/04',\n",
              " '2023/01/05',\n",
              " '2023/01/06',\n",
              " '2023/01/07',\n",
              " '2023/01/08',\n",
              " '2023/01/09',\n",
              " '2023/01/10',\n",
              " '2023/01/11',\n",
              " '2023/01/12',\n",
              " '2023/01/13',\n",
              " '2023/01/14',\n",
              " '2023/01/15',\n",
              " '2023/01/16',\n",
              " '2023/01/17',\n",
              " '2023/01/18',\n",
              " '2023/01/19',\n",
              " '2023/01/20',\n",
              " '2023/01/21',\n",
              " '2023/01/22',\n",
              " '2023/01/23',\n",
              " '2023/01/24',\n",
              " '2023/01/25',\n",
              " '2023/01/26',\n",
              " '2023/01/27',\n",
              " '2023/01/28',\n",
              " '2023/01/29',\n",
              " '2023/01/30',\n",
              " '2023/01/31']"
            ]
          },
          "metadata": {},
          "execution_count": 2
        }
      ]
    },
    {
      "cell_type": "code",
      "source": [
        "#Exercise 4 : Data Manipulation with NumPy and Pandas\n",
        "\n",
        "import pandas as pd\n",
        "import numpy as np\n",
        "\n",
        "# Create a DataFrame with 10 rows and 3 columns of random integers\n",
        "data = {'A': np.random.randint(0, 100, 10),\n",
        "        'B': np.random.randint(0, 100, 10),\n",
        "        'C': np.random.randint(0, 100, 10)}\n",
        "df = pd.DataFrame(data)\n",
        "\n",
        "# Conditional selection: Select rows where column 'A' is greater than 50\n",
        "selected_rows = df[df['A'] > 50]\n",
        "print(\"Rows where 'A' > 50:\\n\", selected_rows)\n",
        "\n",
        "# Aggregation functions:\n",
        "# Calculate the sum of column 'B'\n",
        "sum_b = df['B'].sum()\n",
        "print(\"\\nSum of 'B':\", sum_b)\n",
        "\n",
        "# Calculate the average of column 'C'\n",
        "average_c = df['C'].mean()\n",
        "print(\"Average of 'C':\", average_c)\n"
      ],
      "metadata": {
        "colab": {
          "base_uri": "https://localhost:8080/"
        },
        "id": "pM5tnxB3nCdk",
        "outputId": "9a2a26d9-98a0-433e-eca8-95abf46ff915"
      },
      "execution_count": 4,
      "outputs": [
        {
          "output_type": "stream",
          "name": "stdout",
          "text": [
            "Rows where 'A' > 50:\n",
            "     A   B   C\n",
            "0  52  58  67\n",
            "3  53  62  74\n",
            "4  66   9  53\n",
            "6  82   1  84\n",
            "7  77  13  90\n",
            "8  73  11  33\n",
            "\n",
            "Sum of 'B': 433\n",
            "Average of 'C': 60.4\n"
          ]
        }
      ]
    },
    {
      "cell_type": "markdown",
      "source": [
        " **Exercise 5 : Image Representation\n",
        "Instructions\n",
        "Explain how images are represented in NumPy arrays and demonstrate with a simple example (e.g., creating a 5x5 grayscale image).**\n",
        "In NumPy, images are represented as arrays, where each element in the array corresponds to a pixel value in the image.\n",
        "For a grayscale image, the pixel values typically range from 0 to 255, where 0 represents black and 255 represents white, with varying shades of gray in between."
      ],
      "metadata": {
        "id": "hp_9_e5DoPrU"
      }
    },
    {
      "cell_type": "code",
      "source": [
        "import numpy as np\n",
        "import matplotlib.pyplot as plt\n",
        "\n",
        "# Create a 5x5 array with pixel values ranging from 0 to 255\n",
        "image_array = np.array([\n",
        "    [0, 64, 128, 192, 255],\n",
        "    [64, 128, 192, 255, 0],\n",
        "    [128, 192, 255, 0, 64],\n",
        "    [192, 255, 0, 64, 128],\n",
        "    [255, 0, 64, 128, 192]\n",
        "], dtype=np.uint8)\n",
        "\n",
        "# Display the image using matplotlib\n",
        "plt.imshow(image_array, cmap='gray', vmin=0, vmax=255)\n",
        "plt.colorbar()\n",
        "plt.show()\n"
      ],
      "metadata": {
        "colab": {
          "base_uri": "https://localhost:8080/",
          "height": 430
        },
        "id": "s90w_WfTnjym",
        "outputId": "cd3ce1f2-9616-4b98-a0bd-ae40c2ef1f4c"
      },
      "execution_count": 5,
      "outputs": [
        {
          "output_type": "display_data",
          "data": {
            "text/plain": [
              "<Figure size 640x480 with 2 Axes>"
            ],
            "image/png": "[encoded data removed]"
          },
          "metadata": {}
        }
      ]
    },
    {
      "cell_type": "markdown",
      "source": [
        "**Exercise 6 : Basic Hypothesis Testing**\n",
        "\n",
        "Before and After Scores:\n",
        "\n",
        "We have employee productivity scores after the training (like a test they took after the training).\n",
        "\n",
        "Testing the Hypothesis:\n",
        "\n",
        "Null Hypothesis (H0): The training program does not improve productivity.\n",
        "\n",
        "Alternative Hypothesis (H1): The training program improves productivity.\n",
        "\n",
        "Paired T-Test: We compare the \"before\" and \"after\" scores to see if there's a significant difference."
      ],
      "metadata": {
        "id": "rsAmsFwGrpiB"
      }
    },
    {
      "cell_type": "code",
      "source": [
        "from scipy import stats\n",
        "\n",
        "# Productivity scores of employees before the training program\n",
        "productivity_before = np.random.normal(loc=50, scale=10, size=30)\n",
        "\n",
        "# Productivity scores of the same employees after the training program\n",
        "productivity_after = productivity_before + np.random.normal(loc=5, scale=3, size=30)\n",
        "\n",
        "# Perform paired t-test\n",
        "t_statistic, p_value = stats.ttest_rel(productivity_before, productivity_after)\n",
        "\n",
        "# Print results\n",
        "print(f\"t-statistic: {t_statistic}\")\n",
        "print(f\"p-value: {p_value}\")\n",
        "\n",
        "# Determine if we reject or fail to reject the null hypothesis\n",
        "alpha = 0.05\n",
        "if p_value < alpha:\n",
        "    print(\"Reject the null hypothesis: The training program significantly improves employee productivity.\")\n",
        "else:\n",
        "    print(\"Fail to reject the null hypothesis: The training program does not significantly improve employee productivity.\")\n"
      ],
      "metadata": {
        "colab": {
          "base_uri": "https://localhost:8080/"
        },
        "id": "1l5dZ6cGokdi",
        "outputId": "66debb3d-c423-4e7a-dd0f-04daa48ea0ea"
      },
      "execution_count": 6,
      "outputs": [
        {
          "output_type": "stream",
          "name": "stdout",
          "text": [
            "t-statistic: -12.115675836865698\n",
            "p-value: 7.174452283806079e-13\n",
            "Reject the null hypothesis: The training program significantly improves employee productivity.\n"
          ]
        }
      ]
    },
    {
      "cell_type": "markdown",
      "source": [
        "Results:\n",
        "\n",
        "If the p-value is less than 0.05, we reject the null hypothesis and conclude that the training program significantly improves productivity.\n",
        "\n",
        "If the p-value is greater than 0.05, we do not reject the null hypothesis and conclude that the training program does not significantly improve productivity."
      ],
      "metadata": {
        "id": "FAEKs-xRmVxn"
      }
    },
    {
      "cell_type": "markdown",
      "source": [
        "**🌟 Exercise 7 : Complex Array Comparison**\n",
        "Instructions\n",
        "Create two arrays and perform element-wise comparison to find which elements are greater in the first array.\n",
        "\n",
        "The expected output is a boolean array showing which elements in the first array are greater than the corresponding elements in the second array."
      ],
      "metadata": {
        "id": "NLpI-Y2nun10"
      }
    },
    {
      "cell_type": "code",
      "source": [
        "\n",
        "# Create two arrays\n",
        "array1 = np.array([10, 20, 30, 40, 50])\n",
        "array2 = np.array([5, 25, 15, 45, 35])\n",
        "\n",
        "# Perform element-wise comparison\n",
        "comparison_result = array1 > array2\n",
        "\n",
        "# Print the boolean array showing the comparison results\n",
        "print(comparison_result)\n"
      ],
      "metadata": {
        "colab": {
          "base_uri": "https://localhost:8080/"
        },
        "id": "xw_evmG1tdrG",
        "outputId": "05d5a66c-e7b8-495a-9daf-517d81d6eca7"
      },
      "execution_count": 7,
      "outputs": [
        {
          "output_type": "stream",
          "name": "stdout",
          "text": [
            "[ True False  True False  True]\n"
          ]
        }
      ]
    },
    {
      "cell_type": "markdown",
      "source": [
        "🌟 **Exercise 8 : Time Series Data Manipulation**"
      ],
      "metadata": {
        "id": "e-mlhQO7x8kR"
      }
    },
    {
      "cell_type": "code",
      "source": [
        "\n",
        "# Generate a date range for the year 2023\n",
        "date_range = pd.date_range(start='2023-01-01', end='2023-12-31', freq='D')\n",
        "\n",
        "# Generate random data for the time series\n",
        "data = np.random.randint(low=1000, high=10000, size=len(date_range))\n",
        "\n",
        "# Create a DataFrame with the date range and data\n",
        "time_series = pd.DataFrame(data, index=date_range, columns=['Value'])\n",
        "\n",
        "# Slice the data for different intervals\n",
        "january_to_march = time_series['2023-01-01':'2023-03-31']\n",
        "april_to_june = time_series['2023-04-01':'2023-06-30']\n",
        "july_to_september = time_series['2023-07-01':'2023-09-30']\n",
        "october_to_december = time_series['2023-10-01':'2023-12-31']\n",
        "\n",
        "# Print the sliced data\n",
        "print(\"January to March:\")\n",
        "print(january_to_march)\n",
        "print(\"\\nApril to June:\")\n",
        "print(april_to_june)\n",
        "print(\"\\nJuly to September:\")\n",
        "print(july_to_september)\n",
        "print(\"\\nOctober to December:\")\n",
        "print(october_to_december)\n"
      ],
      "metadata": {
        "colab": {
          "base_uri": "https://localhost:8080/"
        },
        "collapsed": true,
        "id": "xDoVEuyUtdeD",
        "outputId": "591282ae-bed8-4431-bbd3-d7d794c65d73"
      },
      "execution_count": 11,
      "outputs": [
        {
          "output_type": "stream",
          "name": "stdout",
          "text": [
            "January to March:\n",
            "            Value\n",
            "2023-01-01   5159\n",
            "2023-01-02   8653\n",
            "2023-01-03   5341\n",
            "2023-01-04   6323\n",
            "2023-01-05   7074\n",
            "...           ...\n",
            "2023-03-27   9728\n",
            "2023-03-28   8450\n",
            "2023-03-29   4168\n",
            "2023-03-30   3424\n",
            "2023-03-31   1713\n",
            "\n",
            "[90 rows x 1 columns]\n",
            "\n",
            "April to June:\n",
            "            Value\n",
            "2023-04-01   5646\n",
            "2023-04-02   9610\n",
            "2023-04-03   1893\n",
            "2023-04-04   4377\n",
            "2023-04-05   5830\n",
            "...           ...\n",
            "2023-06-26   5796\n",
            "2023-06-27   5414\n",
            "2023-06-28   9811\n",
            "2023-06-29   7993\n",
            "2023-06-30   2098\n",
            "\n",
            "[91 rows x 1 columns]\n",
            "\n",
            "July to September:\n",
            "            Value\n",
            "2023-07-01   6863\n",
            "2023-07-02   9460\n",
            "2023-07-03   7902\n",
            "2023-07-04   3300\n",
            "2023-07-05   2951\n",
            "...           ...\n",
            "2023-09-26   9126\n",
            "2023-09-27   5258\n",
            "2023-09-28   7180\n",
            "2023-09-29   7618\n",
            "2023-09-30   8061\n",
            "\n",
            "[92 rows x 1 columns]\n",
            "\n",
            "October to December:\n",
            "            Value\n",
            "2023-10-01   1004\n",
            "2023-10-02   4775\n",
            "2023-10-03   1850\n",
            "2023-10-04   3993\n",
            "2023-10-05   7988\n",
            "...           ...\n",
            "2023-12-27   1926\n",
            "2023-12-28   1280\n",
            "2023-12-29   5921\n",
            "2023-12-30   1441\n",
            "2023-12-31   7085\n",
            "\n",
            "[92 rows x 1 columns]\n"
          ]
        }
      ]
    },
    {
      "cell_type": "markdown",
      "source": [
        "**🌟 Exercise 9 : Data Conversion**\n",
        "Instructions\n",
        "Demonstrate how to convert a NumPy array to a Pandas DataFrame and vice versa."
      ],
      "metadata": {
        "id": "xYC45qoLwzrz"
      }
    },
    {
      "cell_type": "code",
      "source": [
        "\n",
        "\n",
        "# Create a NumPy array\n",
        "numpy_array = np.array([[1, 2, 3], [4, 5, 6]])\n",
        "\n",
        "# Convert the NumPy array to a Pandas DataFrame\n",
        "pandas_dataframe = pd.DataFrame(numpy_array)\n",
        "\n",
        "# Print the DataFrame\n",
        "print(\"Pandas DataFrame:\")\n",
        "print(pandas_dataframe)\n",
        "\n",
        "# Convert the Pandas DataFrame back to a NumPy array\n",
        "numpy_array_from_df = pandas_dataframe.to_numpy()\n",
        "\n",
        "# Print the NumPy array\n",
        "print(\"\\nNumPy Array from DataFrame:\")\n",
        "numpy_array_from_df\n"
      ],
      "metadata": {
        "colab": {
          "base_uri": "https://localhost:8080/"
        },
        "id": "mvC9iXbrwNO0",
        "outputId": "f51ad772-9ca1-4f42-88fc-38843653fcd3"
      },
      "execution_count": 10,
      "outputs": [
        {
          "output_type": "stream",
          "name": "stdout",
          "text": [
            "Pandas DataFrame:\n",
            "   0  1  2\n",
            "0  1  2  3\n",
            "1  4  5  6\n",
            "\n",
            "NumPy Array from DataFrame:\n"
          ]
        },
        {
          "output_type": "execute_result",
          "data": {
            "text/plain": [
              "array([[1, 2, 3],\n",
              "       [4, 5, 6]])"
            ]
          },
          "metadata": {},
          "execution_count": 10
        }
      ]
    },
    {
      "cell_type": "markdown",
      "source": [
        " Exercise 10 : Basic Visualization"
      ],
      "metadata": {
        "id": "e8gdh6y1yLE0"
      }
    },
    {
      "cell_type": "code",
      "source": [
        "\n",
        "# Generate random data for the x and y axes\n",
        "x = np.linspace(0, 10, 25)  # 25 points between 0 and 10\n",
        "y = np.random.rand(25)      # 25 random numbers between 0 and 1\n",
        "\n",
        "# Create the line plot\n",
        "plt.plot(x, y)\n",
        "\n",
        "# Add labels and title\n",
        "plt.xlabel(\"X-axis\")\n",
        "plt.ylabel(\"Y-axis\")\n",
        "plt.title(\"Simple Line Graph\")\n",
        "\n",
        "# Display the plot\n",
        "plt.show()\n"
      ],
      "metadata": {
        "colab": {
          "base_uri": "https://localhost:8080/",
          "height": 472
        },
        "id": "Dwu2olh1xht9",
        "outputId": "be7bae59-2b42-447e-8c4c-590c5f44b446"
      },
      "execution_count": 14,
      "outputs": [
        {
          "output_type": "display_data",
          "data": {
            "text/plain": [
              "<Figure size 640x480 with 1 Axes>"
            ],
            "image/png": "[encoded data removed]"
          },
          "metadata": {}
        }
      ]
    }
  ]
}