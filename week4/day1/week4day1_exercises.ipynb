{
  "nbformat": 4,
  "nbformat_minor": 0,
  "metadata": {
    "colab": {
      "provenance": []
    },
    "kernelspec": {
      "name": "python3",
      "display_name": "Python 3"
    },
    "language_info": {
      "name": "python"
    }
  },
  "cells": [
    {
      "cell_type": "code",
      "execution_count": 3,
      "metadata": {
        "colab": {
          "base_uri": "https://localhost:8080/"
        },
        "id": "2H9dzV0clSyL",
        "outputId": "3fd47353-2d1a-4cf3-c3de-e3ac7a5f3449"
      },
      "outputs": [
        {
          "output_type": "execute_result",
          "data": {
            "text/plain": [
              "array([0, 1, 2, 3, 4, 5, 6, 7, 8, 9])"
            ]
          },
          "metadata": {},
          "execution_count": 3
        }
      ],
      "source": [
        "#🌟 Exercise 1 : Array Creation and Manipulation\n",
        "# Instructions\n",
        "# Create a 1D NumPy array containing numbers from 0 to 9.\n",
        "\n",
        "import numpy as np\n",
        "\n",
        "# Create a 1D NumPy array containing numbers from 0 to 9\n",
        "array_1d = np.arange(10)\n",
        "\n",
        "array_1d\n"
      ]
    },
    {
      "cell_type": "code",
      "source": [
        "#🌟 Exercise 2 : Type Conversion and Array Operations\n",
        "# Instructions\n",
        "# Convert a list [3.14, 2.17, 0, 1, 2] into a NumPy array and convert its data type to integer.\n",
        "\n",
        "my_list = [3.14, 2.17, 0, 1, 2]\n",
        "my_array = np.array(my_list, dtype=int)\n",
        "my_array"
      ],
      "metadata": {
        "colab": {
          "base_uri": "https://localhost:8080/"
        },
        "id": "mYJO3R3nl1j6",
        "outputId": "c79b0c12-91a3-44d2-fc99-647bfd6d62b6"
      },
      "execution_count": 4,
      "outputs": [
        {
          "output_type": "execute_result",
          "data": {
            "text/plain": [
              "array([3, 2, 0, 1, 2])"
            ]
          },
          "metadata": {},
          "execution_count": 4
        }
      ]
    },
    {
      "cell_type": "code",
      "source": [
        "# 🌟 Exercise 3 : Working with Multi-Dimensional Arrays\n",
        "# Instructions\n",
        "# Create a 3x3 NumPy array with values ranging from 1 to 9.\n",
        "\n",
        "# Create a 3x3 NumPy array with values ranging from 1 to 9\n",
        "array_3x3 = np.arange(1, 10).reshape(3, 3)\n",
        "\n",
        "array_3x3\n"
      ],
      "metadata": {
        "colab": {
          "base_uri": "https://localhost:8080/"
        },
        "id": "nP98oXXJl38P",
        "outputId": "12f66068-231d-4950-8f8f-37ba31c9feba"
      },
      "execution_count": 5,
      "outputs": [
        {
          "output_type": "execute_result",
          "data": {
            "text/plain": [
              "array([[1, 2, 3],\n",
              "       [4, 5, 6],\n",
              "       [7, 8, 9]])"
            ]
          },
          "metadata": {},
          "execution_count": 5
        }
      ]
    },
    {
      "cell_type": "code",
      "source": [
        "# 🌟 Exercise 4 : Creating Multi-Dimensional Array with Random Numbers\n",
        "# Create a 2D NumPy array of shape (4, 5) filled with random numbers\n",
        "random_array = np.random.randint(0, 50, size=(4, 5))\n",
        "\n",
        "random_array\n"
      ],
      "metadata": {
        "colab": {
          "base_uri": "https://localhost:8080/"
        },
        "id": "c7mmmZyVmLAh",
        "outputId": "bc6e2e2b-aee0-4b3f-af50-a3e01e5e8b77"
      },
      "execution_count": 11,
      "outputs": [
        {
          "output_type": "execute_result",
          "data": {
            "text/plain": [
              "array([[24, 47, 45, 14, 35],\n",
              "       [27, 45, 38, 40, 33],\n",
              "       [21,  9, 34, 32, 34],\n",
              "       [14,  5,  4, 19, 18]])"
            ]
          },
          "metadata": {},
          "execution_count": 11
        }
      ]
    },
    {
      "cell_type": "code",
      "source": [
        "# 🌟 Exercise 5 : Indexing Arrays\n",
        "\n",
        "# Select the second row from a given 2D NumPy array.\n",
        "\n",
        "# Example 2D array\n",
        "my_2d_array = np.array([[1, 2, 3], [4, 5, 6], [7, 8, 9]])\n",
        "\n",
        "# Select the second row (index 1)\n",
        "second_row = my_2d_array[1, :]  # or my_2d_array[1]\n",
        "\n",
        "second_row\n"
      ],
      "metadata": {
        "colab": {
          "base_uri": "https://localhost:8080/"
        },
        "id": "bqGIL89emv69",
        "outputId": "fe412f3e-4ea9-48b1-8acc-0f1c11d349d8"
      },
      "execution_count": 8,
      "outputs": [
        {
          "output_type": "execute_result",
          "data": {
            "text/plain": [
              "array([4, 5, 6])"
            ]
          },
          "metadata": {},
          "execution_count": 8
        }
      ]
    },
    {
      "cell_type": "code",
      "source": [
        "# 🌟 Exercise 6 : Reversing elements\n",
        "# Instructions\n",
        "# Reverse the order of elements in a given 1D NumPy array (first element becomes last).\n",
        "\n",
        "# Reverse the order of elements in the array_1d\n",
        "reversed_array = my_array[::-1]\n",
        "\n",
        "reversed_array\n"
      ],
      "metadata": {
        "colab": {
          "base_uri": "https://localhost:8080/"
        },
        "id": "1_YEDMS9ob_D",
        "outputId": "1ec5d332-4711-4d11-f23c-b8623e2f4111"
      },
      "execution_count": 9,
      "outputs": [
        {
          "output_type": "execute_result",
          "data": {
            "text/plain": [
              "array([2, 1, 0, 2, 3])"
            ]
          },
          "metadata": {},
          "execution_count": 9
        }
      ]
    },
    {
      "cell_type": "code",
      "source": [
        "# 🌟 Exercise 7 : Identity Matrix\n",
        "# Instructions\n",
        "# Create a 4x4 identity matrix using NumPy.\n",
        "\n",
        "identity_matrix = np.eye(4)\n",
        "\n",
        "identity_matrix\n"
      ],
      "metadata": {
        "colab": {
          "base_uri": "https://localhost:8080/"
        },
        "id": "HhPChHU2pMTr",
        "outputId": "216c8516-eb1a-4345-ab59-ee45c643e0cc"
      },
      "execution_count": 10,
      "outputs": [
        {
          "output_type": "execute_result",
          "data": {
            "text/plain": [
              "array([[1., 0., 0., 0.],\n",
              "       [0., 1., 0., 0.],\n",
              "       [0., 0., 1., 0.],\n",
              "       [0., 0., 0., 1.]])"
            ]
          },
          "metadata": {},
          "execution_count": 10
        }
      ]
    },
    {
      "cell_type": "code",
      "source": [
        "# prompt:  Simple Aggregate Funcs\n",
        "# Find the sum and average of a given 1D array.\n",
        "\n",
        "# Calculate the sum of array_1d, made in exercize 1\n",
        "array_sum = np.sum(array_1d)\n",
        "print(f\"Sum of array_1d: {array_sum}\")\n",
        "\n",
        "# Calculate the average of array_1d\n",
        "array_average = np.mean(array_1d)\n",
        "print(f\"Average of array_1d: {array_average}\")\n"
      ],
      "metadata": {
        "colab": {
          "base_uri": "https://localhost:8080/"
        },
        "id": "FXvoR3xrpoEH",
        "outputId": "180fd13e-d393-42c2-e5c2-111d7bf682fd"
      },
      "execution_count": 13,
      "outputs": [
        {
          "output_type": "stream",
          "name": "stdout",
          "text": [
            "Sum of array_1d: 45\n",
            "Average of array_1d: 4.5\n"
          ]
        }
      ]
    },
    {
      "cell_type": "code",
      "source": [
        "# 🌟 Exercise 9 : Create Array and Change its Structure\n",
        "# Instructions\n",
        "# Create a NumPy array with elements from 1 to 20; then reshape it into a 4x5 matrix.\n",
        "\n",
        "\n",
        "# Create a NumPy array with elements from 1 to 20\n",
        "array_3 = np.arange(1, 21)\n",
        "\n",
        "# Reshape the array into a 4x5 matrix\n",
        "reshaped_array = array_3.reshape(4, 5)\n",
        "\n",
        "# Print the reshaped array\n",
        "reshaped_array\n"
      ],
      "metadata": {
        "colab": {
          "base_uri": "https://localhost:8080/"
        },
        "id": "e1irXR6Wpory",
        "outputId": "4dc0b435-8ed3-4e42-8fd2-9450c3c3cd21"
      },
      "execution_count": 14,
      "outputs": [
        {
          "output_type": "execute_result",
          "data": {
            "text/plain": [
              "array([[ 1,  2,  3,  4,  5],\n",
              "       [ 6,  7,  8,  9, 10],\n",
              "       [11, 12, 13, 14, 15],\n",
              "       [16, 17, 18, 19, 20]])"
            ]
          },
          "metadata": {},
          "execution_count": 14
        }
      ]
    },
    {
      "cell_type": "code",
      "source": [
        "# 🌟 Exercise 10 : Conditional Selection of Values\n",
        "# Instructions\n",
        "# Extract all odd numbers from a given NumPy array.\n",
        "\n",
        "# Extract all odd numbers from array_1d\n",
        "odd_numbers = array_1d[array_1d % 2 != 0]\n",
        "\n",
        "print(f\"Odd numbers in array_1d: {odd_numbers}\")\n"
      ],
      "metadata": {
        "colab": {
          "base_uri": "https://localhost:8080/"
        },
        "id": "GtRTsPI0rL3L",
        "outputId": "e53ccd36-31c8-4762-cf5e-0237bbe95816"
      },
      "execution_count": 15,
      "outputs": [
        {
          "output_type": "stream",
          "name": "stdout",
          "text": [
            "Odd numbers in array_1d: [1 3 5 7 9]\n"
          ]
        }
      ]
    },
    {
      "cell_type": "code",
      "source": [],
      "metadata": {
        "id": "Qc6TxbrnrLta"
      },
      "execution_count": null,
      "outputs": []
    },
    {
      "cell_type": "code",
      "source": [],
      "metadata": {
        "id": "4EOwOWhZrLjU"
      },
      "execution_count": null,
      "outputs": []
    },
    {
      "cell_type": "code",
      "source": [],
      "metadata": {
        "id": "5VlZ9ok5rLX-"
      },
      "execution_count": null,
      "outputs": []
    }
  ]
}