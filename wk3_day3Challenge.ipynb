{
  "nbformat": 4,
  "nbformat_minor": 0,
  "metadata": {
    "colab": {
      "provenance": [],
      "authorship_tag": "ABX9TyMAZdu7t6XvpC+YdsjuG/oJ",
      "include_colab_link": true
    },
    "kernelspec": {
      "name": "python3",
      "display_name": "Python 3"
    },
    "language_info": {
      "name": "python"
    }
  },
  "cells": [
    {
      "cell_type": "markdown",
      "metadata": {
        "id": "view-in-github",
        "colab_type": "text"
      },
      "source": [
        "<a href=\"https://colab.research.google.com/github/Wolfasaurus-08/DI_Bootcamp/blob/main/wk3_day3Challenge.ipynb\" target=\"_parent\"><img src=\"https://colab.research.google.com/assets/colab-badge.svg\" alt=\"Open In Colab\"/></a>"
      ]
    },
    {
      "cell_type": "code",
      "source": [
        "import pandas as pd\n",
        "from sklearn.preprocessing import MinMaxScaler\n",
        "from sklearn.decomposition import PCA\n"
      ],
      "metadata": {
        "id": "jV4z5ETGLRXf"
      },
      "execution_count": 23,
      "outputs": []
    },
    {
      "cell_type": "code",
      "execution_count": 2,
      "metadata": {
        "id": "D1KawZFMFwLK"
      },
      "outputs": [],
      "source": [
        "data = pd.read_csv('datascience_salaries.csv')\n",
        "\n",
        "# Create a copy of the DataFrame\n",
        "data_copy = data.copy()\n"
      ]
    },
    {
      "cell_type": "code",
      "source": [
        "print(data_copy.head())\n"
      ],
      "metadata": {
        "id": "CaWotlRrvbUZ",
        "colab": {
          "base_uri": "https://localhost:8080/"
        },
        "outputId": "093e9f3b-b0b1-4f96-9fe8-c7e8e8c74cf8"
      },
      "execution_count": 3,
      "outputs": [
        {
          "output_type": "stream",
          "name": "stdout",
          "text": [
            "   Unnamed: 0       job_title   job_type experience_level       location  \\\n",
            "0           0  Data scientist  Full Time           Senior  New York City   \n",
            "1           2  Data scientist  Full Time           Senior         Boston   \n",
            "2           3  Data scientist  Full Time           Senior         London   \n",
            "3           4  Data scientist  Full Time           Senior         Boston   \n",
            "4           5  Data scientist  Full Time           Senior  New York City   \n",
            "\n",
            "  salary_currency  salary  \n",
            "0             USD  149000  \n",
            "1             USD  120000  \n",
            "2             USD   68000  \n",
            "3             USD  120000  \n",
            "4             USD  149000  \n"
          ]
        }
      ]
    },
    {
      "cell_type": "code",
      "source": [
        "scaler = MinMaxScaler()\n",
        "data_copy['normalized_salary'] = scaler.fit_transform(data_copy[['salary']])"
      ],
      "metadata": {
        "id": "DKv04zkTOUkI"
      },
      "execution_count": 12,
      "outputs": []
    },
    {
      "cell_type": "code",
      "source": [
        "experience_mapping = {'Junior': 1, 'Mid-level': 2, 'Senior': 3}\n",
        "data_copy['experience_level_numeric'] = data_copy['experience_level'].map(experience_mapping)\n"
      ],
      "metadata": {
        "id": "imNHhSbpiJSO"
      },
      "execution_count": 11,
      "outputs": []
    },
    {
      "cell_type": "code",
      "source": [
        "categorical_columns = ['job_title', 'location']\n",
        "data_dummies = pd.get_dummies(data_copy[categorical_columns], drop_first=True)"
      ],
      "metadata": {
        "id": "3bw9d6ank9bT"
      },
      "execution_count": 13,
      "outputs": []
    },
    {
      "cell_type": "code",
      "source": [
        "features = pd.concat([\n",
        "    data_copy[['normalized_salary', 'experience_level_numeric']],\n",
        "    data_dummies\n",
        "], axis=1)\n",
        "\n"
      ],
      "metadata": {
        "id": "wtRzt9gZOUUz"
      },
      "execution_count": 14,
      "outputs": []
    },
    {
      "cell_type": "code",
      "source": [
        "features.fillna(features.mean(), inplace=True)"
      ],
      "metadata": {
        "id": "xSBlO7w-help"
      },
      "execution_count": 16,
      "outputs": []
    },
    {
      "cell_type": "code",
      "source": [
        "pca = PCA(n_components=2)  # Reduce to 2 components\n",
        "pca_result = pca.fit_transform(features)\n",
        "data_copy['pca_one'] = None\n",
        "data_copy['pca_two'] = None"
      ],
      "metadata": {
        "id": "LVkPjadwl_QE"
      },
      "execution_count": 18,
      "outputs": []
    },
    {
      "cell_type": "code",
      "source": [
        "data_copy.loc[features.index, 'pca_one'] = pca_result[:, 0]\n",
        "data_copy.loc[features.index, 'pca_two'] = pca_result[:, 1]"
      ],
      "metadata": {
        "id": "369txKfUofMj"
      },
      "execution_count": 19,
      "outputs": []
    },
    {
      "cell_type": "code",
      "source": [
        "grouped_data = data_copy.groupby('experience_level')['salary'].agg(['mean', 'median']).reset_index()\n",
        "grouped_data.columns = ['experience_level', 'average_salary', 'median_salary']"
      ],
      "metadata": {
        "id": "kfZtNt3Folwk"
      },
      "execution_count": 20,
      "outputs": []
    },
    {
      "cell_type": "code",
      "source": [
        "print(grouped_data)\n",
        "\n"
      ],
      "metadata": {
        "colab": {
          "base_uri": "https://localhost:8080/"
        },
        "id": "IlIeGi_sore1",
        "outputId": "a31cc4ca-e882-443a-8e84-3264edf50113"
      },
      "execution_count": 21,
      "outputs": [
        {
          "output_type": "stream",
          "name": "stdout",
          "text": [
            "  experience_level  average_salary  median_salary\n",
            "0            Entry    36111.111111        30000.0\n",
            "1        Executive    76076.923077        46000.0\n",
            "2              Mid    51786.885246        51000.0\n",
            "3           Senior    75088.033012        68000.0\n"
          ]
        }
      ]
    },
    {
      "cell_type": "code",
      "source": [
        "print(data_copy[['experience_level', 'pca_one', 'pca_two']].head())"
      ],
      "metadata": {
        "colab": {
          "base_uri": "https://localhost:8080/"
        },
        "id": "c_TsrhbcoxaS",
        "outputId": "ab78dd82-6945-4929-a9ec-4497db540589"
      },
      "execution_count": 22,
      "outputs": [
        {
          "output_type": "stream",
          "name": "stdout",
          "text": [
            "  experience_level   pca_one   pca_two\n",
            "0           Senior  0.727637 -0.260297\n",
            "1           Senior  0.733437 -0.277807\n",
            "2           Senior  0.715669 -0.310223\n",
            "3           Senior  0.733437 -0.277807\n",
            "4           Senior  0.727637 -0.260297\n"
          ]
        }
      ]
    },
    {
      "cell_type": "markdown",
      "source": [],
      "metadata": {
        "id": "4keXRU1boxIG"
      }
    }
  ]
}